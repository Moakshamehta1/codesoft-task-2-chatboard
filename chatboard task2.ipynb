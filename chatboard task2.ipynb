{
 "cells": [
  {
   "cell_type": "code",
   "execution_count": 19,
   "id": "3c352530-e8ce-48a0-b1e4-9c25d45c7d24",
   "metadata": {},
   "outputs": [
    {
     "name": "stdout",
     "output_type": "stream",
     "text": [
      "\n",
      "Please select one of the following options:\n",
      "1. Say Hello\n",
      "2. Ask 'How are you?'\n",
      "3. Ask 'What's your name?'\n",
      "4. Say Goodbye\n",
      "5. Show the current date and time\n"
     ]
    },
    {
     "name": "stdin",
     "output_type": "stream",
     "text": [
      "You:  1\n"
     ]
    },
    {
     "name": "stdout",
     "output_type": "stream",
     "text": [
      "Chatbot: Hello! How can I assist you today?\n",
      "\n",
      "Please select one of the following options:\n",
      "1. Say Hello\n",
      "2. Ask 'How are you?'\n",
      "3. Ask 'What's your name?'\n",
      "4. Say Goodbye\n",
      "5. Show the current date and time\n"
     ]
    },
    {
     "name": "stdin",
     "output_type": "stream",
     "text": [
      "You:  2\n"
     ]
    },
    {
     "name": "stdout",
     "output_type": "stream",
     "text": [
      "Chatbot: I'm just a bot, but I'm doing great! How about you?\n",
      "\n",
      "Please select one of the following options:\n",
      "1. Say Hello\n",
      "2. Ask 'How are you?'\n",
      "3. Ask 'What's your name?'\n",
      "4. Say Goodbye\n",
      "5. Show the current date and time\n"
     ]
    },
    {
     "name": "stdin",
     "output_type": "stream",
     "text": [
      "You:  3\n"
     ]
    },
    {
     "name": "stdout",
     "output_type": "stream",
     "text": [
      "Chatbot: I'm your friendly chatbot. I don't have a name yet!\n",
      "\n",
      "Please select one of the following options:\n",
      "1. Say Hello\n",
      "2. Ask 'How are you?'\n",
      "3. Ask 'What's your name?'\n",
      "4. Say Goodbye\n",
      "5. Show the current date and time\n"
     ]
    },
    {
     "name": "stdin",
     "output_type": "stream",
     "text": [
      "You:  4\n"
     ]
    },
    {
     "name": "stdout",
     "output_type": "stream",
     "text": [
      "Chatbot: Goodbye! Have a great day!\n",
      "\n",
      "Please select one of the following options:\n",
      "1. Say Hello\n",
      "2. Ask 'How are you?'\n",
      "3. Ask 'What's your name?'\n",
      "4. Say Goodbye\n",
      "5. Show the current date and time\n"
     ]
    },
    {
     "name": "stdin",
     "output_type": "stream",
     "text": [
      "You:  5\n"
     ]
    },
    {
     "name": "stdout",
     "output_type": "stream",
     "text": [
      "Chatbot: The current date and time is: 2024-08-25 19:40:28\n",
      "\n",
      "Please select one of the following options:\n",
      "1. Say Hello\n",
      "2. Ask 'How are you?'\n",
      "3. Ask 'What's your name?'\n",
      "4. Say Goodbye\n",
      "5. Show the current date and time\n"
     ]
    },
    {
     "name": "stdin",
     "output_type": "stream",
     "text": [
      "You:  exit\n"
     ]
    },
    {
     "name": "stdout",
     "output_type": "stream",
     "text": [
      "Chatbot: Goodbye!\n"
     ]
    }
   ],
   "source": [
    "import datetime\n",
    "\n",
    "def chatbot_response(user_input):\n",
    "    user_input = user_input.lower()\n",
    "\n",
    "    if \"1\" in user_input:\n",
    "        return \"Hello! How can I assist you today?\"\n",
    "    elif \"2\" in user_input:\n",
    "        return \"I'm just a bot, but I'm doing great! How about you?\"\n",
    "    elif \"3\" in user_input:\n",
    "        return \"I'm your friendly chatbot. I don't have a name yet!\"\n",
    "    elif \"4\" in user_input:\n",
    "        return \"Goodbye! Have a great day!\"\n",
    "    elif \"5\" in user_input:\n",
    "        now = datetime.datetime.now()\n",
    "        return f\"The current date and time is: {now.strftime('%Y-%m-%d %H:%M:%S')}\"\n",
    "    else:\n",
    "        return \"I'm sorry, I didn't understand that. Can you please select an option from the menu?\"\n",
    "\n",
    "def display_menu():\n",
    "    print(\"\\nPlease select one of the following options:\")\n",
    "    print(\"1. Say Hello\")\n",
    "    print(\"2. Ask 'How are you?'\")\n",
    "    print(\"3. Ask 'What's your name?'\")\n",
    "    print(\"4. Say Goodbye\")\n",
    "    print(\"5. Show the current date and time\")\n",
    "\n",
    "while True:\n",
    "    display_menu()\n",
    "    user_input = input(\"You: \")\n",
    "    if user_input.lower() == \"exit\":\n",
    "        print(\"Chatbot: Goodbye!\")\n",
    "        break\n",
    "    response = chatbot_response(user_input)\n",
    "    print(\"Chatbot:\",response)"
   ]
  }
 ],
 "metadata": {
  "kernelspec": {
   "display_name": "Python 3 (ipykernel)",
   "language": "python",
   "name": "python3"
  },
  "language_info": {
   "codemirror_mode": {
    "name": "ipython",
    "version": 3
   },
   "file_extension": ".py",
   "mimetype": "text/x-python",
   "name": "python",
   "nbconvert_exporter": "python",
   "pygments_lexer": "ipython3",
   "version": "3.11.5"
  }
 },
 "nbformat": 4,
 "nbformat_minor": 5
}
